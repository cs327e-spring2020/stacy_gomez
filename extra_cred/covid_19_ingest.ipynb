{
 "cells": [
  {
   "cell_type": "markdown",
   "metadata": {},
   "source": [
    "## Load dataset into bucket"
   ]
  },
  {
   "cell_type": "code",
   "execution_count": null,
   "metadata": {},
   "outputs": [],
   "source": [
    "bucket_name = \"ex_cred_05/Dataset1\""
   ]
  },
  {
   "cell_type": "code",
   "execution_count": 2,
   "metadata": {},
   "outputs": [
    {
     "name": "stdout",
     "output_type": "stream",
     "text": [
      "Cloning into 'COVID-19'...\n",
      "remote: Enumerating objects: 46, done.\u001b[K\n",
      "remote: Counting objects: 100% (46/46), done.\u001b[K\n",
      "remote: Compressing objects: 100% (23/23), done.\u001b[K\n",
      "remote: Total 25317 (delta 26), reused 35 (delta 22), pack-reused 25271\u001b[K\n",
      "Receiving objects: 100% (25317/25317), 114.30 MiB | 42.76 MiB/s, done.\n",
      "Resolving deltas: 100% (14116/14116), done.\n"
     ]
    }
   ],
   "source": [
    "!git clone https://github.com/CSSEGISandData/COVID-19.git"
   ]
  },
  {
   "cell_type": "code",
   "execution_count": 9,
   "metadata": {},
   "outputs": [
    {
     "name": "stdout",
     "output_type": "stream",
     "text": [
      "Copying file://COVID-19/csse_covid_19_data/csse_covid_19_daily_reports/01-22-2020.csv [Content-Type=text/csv]...\n",
      "Copying file://COVID-19/csse_covid_19_data/csse_covid_19_daily_reports/01-23-2020.csv [Content-Type=text/csv]...\n",
      "Copying file://COVID-19/csse_covid_19_data/csse_covid_19_daily_reports/01-24-2020.csv [Content-Type=text/csv]...\n",
      "Copying file://COVID-19/csse_covid_19_data/csse_covid_19_daily_reports/01-25-2020.csv [Content-Type=text/csv]...\n",
      "/ [4 files][  6.8 KiB/  6.8 KiB]                                                \n",
      "==> NOTE: You are performing a sequence of gsutil operations that may\n",
      "run significantly faster if you instead use gsutil -m cp ... Please\n",
      "see the -m section under \"gsutil help options\" for further information\n",
      "about when gsutil -m can be advantageous.\n",
      "\n",
      "Copying file://COVID-19/csse_covid_19_data/csse_covid_19_daily_reports/01-26-2020.csv [Content-Type=text/csv]...\n",
      "Copying file://COVID-19/csse_covid_19_data/csse_covid_19_daily_reports/01-27-2020.csv [Content-Type=text/csv]...\n",
      "Copying file://COVID-19/csse_covid_19_data/csse_covid_19_daily_reports/01-28-2020.csv [Content-Type=text/csv]...\n",
      "Copying file://COVID-19/csse_covid_19_data/csse_covid_19_daily_reports/01-29-2020.csv [Content-Type=text/csv]...\n",
      "Copying file://COVID-19/csse_covid_19_data/csse_covid_19_daily_reports/01-30-2020.csv [Content-Type=text/csv]...\n",
      "Copying file://COVID-19/csse_covid_19_data/csse_covid_19_daily_reports/01-31-2020.csv [Content-Type=text/csv]...\n",
      "- [10 files][ 19.7 KiB/ 19.7 KiB]                                               \n",
      "Operation completed over 10 objects/19.7 KiB.                                    \n"
     ]
    }
   ],
   "source": [
    "!gsutil cp COVID-19/csse_covid_19_data/csse_covid_19_daily_reports/01-*.csv gs://{bucket_name}/01-22-to-03-21"
   ]
  },
  {
   "cell_type": "code",
   "execution_count": 10,
   "metadata": {},
   "outputs": [
    {
     "name": "stdout",
     "output_type": "stream",
     "text": [
      "Copying file://COVID-19/csse_covid_19_data/csse_covid_19_daily_reports/02-01-2020.csv [Content-Type=text/csv]...\n",
      "Copying file://COVID-19/csse_covid_19_data/csse_covid_19_daily_reports/02-02-2020.csv [Content-Type=text/csv]...\n",
      "Copying file://COVID-19/csse_covid_19_data/csse_covid_19_daily_reports/02-03-2020.csv [Content-Type=text/csv]...\n",
      "Copying file://COVID-19/csse_covid_19_data/csse_covid_19_daily_reports/02-04-2020.csv [Content-Type=text/csv]...\n",
      "/ [4 files][ 12.1 KiB/ 12.1 KiB]                                                \n",
      "==> NOTE: You are performing a sequence of gsutil operations that may\n",
      "run significantly faster if you instead use gsutil -m cp ... Please\n",
      "see the -m section under \"gsutil help options\" for further information\n",
      "about when gsutil -m can be advantageous.\n",
      "\n",
      "Copying file://COVID-19/csse_covid_19_data/csse_covid_19_daily_reports/02-05-2020.csv [Content-Type=text/csv]...\n",
      "Copying file://COVID-19/csse_covid_19_data/csse_covid_19_daily_reports/02-06-2020.csv [Content-Type=text/csv]...\n",
      "Copying file://COVID-19/csse_covid_19_data/csse_covid_19_daily_reports/02-07-2020.csv [Content-Type=text/csv]...\n",
      "Copying file://COVID-19/csse_covid_19_data/csse_covid_19_daily_reports/02-08-2020.csv [Content-Type=text/csv]...\n",
      "Copying file://COVID-19/csse_covid_19_data/csse_covid_19_daily_reports/02-09-2020.csv [Content-Type=text/csv]...\n",
      "Copying file://COVID-19/csse_covid_19_data/csse_covid_19_daily_reports/02-10-2020.csv [Content-Type=text/csv]...\n",
      "Copying file://COVID-19/csse_covid_19_data/csse_covid_19_daily_reports/02-11-2020.csv [Content-Type=text/csv]...\n",
      "Copying file://COVID-19/csse_covid_19_data/csse_covid_19_daily_reports/02-12-2020.csv [Content-Type=text/csv]...\n",
      "Copying file://COVID-19/csse_covid_19_data/csse_covid_19_daily_reports/02-13-2020.csv [Content-Type=text/csv]...\n",
      "Copying file://COVID-19/csse_covid_19_data/csse_covid_19_daily_reports/02-14-2020.csv [Content-Type=text/csv]...\n",
      "Copying file://COVID-19/csse_covid_19_data/csse_covid_19_daily_reports/02-15-2020.csv [Content-Type=text/csv]...\n",
      "Copying file://COVID-19/csse_covid_19_data/csse_covid_19_daily_reports/02-16-2020.csv [Content-Type=text/csv]...\n",
      "Copying file://COVID-19/csse_covid_19_data/csse_covid_19_daily_reports/02-17-2020.csv [Content-Type=text/csv]...\n",
      "Copying file://COVID-19/csse_covid_19_data/csse_covid_19_daily_reports/02-18-2020.csv [Content-Type=text/csv]...\n",
      "Copying file://COVID-19/csse_covid_19_data/csse_covid_19_daily_reports/02-19-2020.csv [Content-Type=text/csv]...\n",
      "Copying file://COVID-19/csse_covid_19_data/csse_covid_19_daily_reports/02-20-2020.csv [Content-Type=text/csv]...\n",
      "Copying file://COVID-19/csse_covid_19_data/csse_covid_19_daily_reports/02-21-2020.csv [Content-Type=text/csv]...\n",
      "Copying file://COVID-19/csse_covid_19_data/csse_covid_19_daily_reports/02-22-2020.csv [Content-Type=text/csv]...\n",
      "Copying file://COVID-19/csse_covid_19_data/csse_covid_19_daily_reports/02-23-2020.csv [Content-Type=text/csv]...\n",
      "Copying file://COVID-19/csse_covid_19_data/csse_covid_19_daily_reports/02-24-2020.csv [Content-Type=text/csv]...\n",
      "Copying file://COVID-19/csse_covid_19_data/csse_covid_19_daily_reports/02-25-2020.csv [Content-Type=text/csv]...\n",
      "Copying file://COVID-19/csse_covid_19_data/csse_covid_19_daily_reports/02-26-2020.csv [Content-Type=text/csv]...\n",
      "Copying file://COVID-19/csse_covid_19_data/csse_covid_19_daily_reports/02-27-2020.csv [Content-Type=text/csv]...\n",
      "Copying file://COVID-19/csse_covid_19_data/csse_covid_19_daily_reports/02-28-2020.csv [Content-Type=text/csv]...\n",
      "Copying file://COVID-19/csse_covid_19_data/csse_covid_19_daily_reports/02-29-2020.csv [Content-Type=text/csv]...\n",
      "| [29 files][106.2 KiB/106.2 KiB]                                               \n",
      "==> NOTE: You are performing a sequence of gsutil operations that may\n",
      "run significantly faster if you instead use gsutil -m cp ... Please\n",
      "see the -m section under \"gsutil help options\" for further information\n",
      "about when gsutil -m can be advantageous.\n",
      "\n",
      "\n",
      "Operation completed over 29 objects/106.2 KiB.                                   \n"
     ]
    }
   ],
   "source": [
    "!gsutil cp COVID-19/csse_covid_19_data/csse_covid_19_daily_reports/02-*.csv gs://{bucket_name}/01-22-to-03-21"
   ]
  },
  {
   "cell_type": "code",
   "execution_count": 11,
   "metadata": {},
   "outputs": [
    {
     "name": "stdout",
     "output_type": "stream",
     "text": [
      "Copying file://COVID-19/csse_covid_19_data/csse_covid_19_daily_reports/03-01-2020.csv [Content-Type=text/csv]...\n",
      "Copying file://COVID-19/csse_covid_19_data/csse_covid_19_daily_reports/03-02-2020.csv [Content-Type=text/csv]...\n",
      "Copying file://COVID-19/csse_covid_19_data/csse_covid_19_daily_reports/03-03-2020.csv [Content-Type=text/csv]...\n",
      "Copying file://COVID-19/csse_covid_19_data/csse_covid_19_daily_reports/03-04-2020.csv [Content-Type=text/csv]...\n",
      "/ [4 files][ 34.7 KiB/ 34.7 KiB]                                                \n",
      "==> NOTE: You are performing a sequence of gsutil operations that may\n",
      "run significantly faster if you instead use gsutil -m cp ... Please\n",
      "see the -m section under \"gsutil help options\" for further information\n",
      "about when gsutil -m can be advantageous.\n",
      "\n",
      "Copying file://COVID-19/csse_covid_19_data/csse_covid_19_daily_reports/03-05-2020.csv [Content-Type=text/csv]...\n",
      "Copying file://COVID-19/csse_covid_19_data/csse_covid_19_daily_reports/03-06-2020.csv [Content-Type=text/csv]...\n",
      "Copying file://COVID-19/csse_covid_19_data/csse_covid_19_daily_reports/03-07-2020.csv [Content-Type=text/csv]...\n",
      "Copying file://COVID-19/csse_covid_19_data/csse_covid_19_daily_reports/03-08-2020.csv [Content-Type=text/csv]...\n",
      "Copying file://COVID-19/csse_covid_19_data/csse_covid_19_daily_reports/03-09-2020.csv [Content-Type=text/csv]...\n",
      "- [9 files][102.9 KiB/102.9 KiB]                                                \n",
      "Operation completed over 9 objects/102.9 KiB.                                    \n"
     ]
    }
   ],
   "source": [
    "!gsutil cp COVID-19/csse_covid_19_data/csse_covid_19_daily_reports/03-0*.csv gs://{bucket_name}/01-22-to-03-21"
   ]
  },
  {
   "cell_type": "code",
   "execution_count": 12,
   "metadata": {},
   "outputs": [
    {
     "name": "stdout",
     "output_type": "stream",
     "text": [
      "Copying file://COVID-19/csse_covid_19_data/csse_covid_19_daily_reports/03-10-2020.csv [Content-Type=text/csv]...\n",
      "Copying file://COVID-19/csse_covid_19_data/csse_covid_19_daily_reports/03-11-2020.csv [Content-Type=text/csv]...\n",
      "Copying file://COVID-19/csse_covid_19_data/csse_covid_19_daily_reports/03-12-2020.csv [Content-Type=text/csv]...\n",
      "Copying file://COVID-19/csse_covid_19_data/csse_covid_19_daily_reports/03-13-2020.csv [Content-Type=text/csv]...\n",
      "/ [4 files][ 49.2 KiB/ 49.2 KiB]                                                \n",
      "==> NOTE: You are performing a sequence of gsutil operations that may\n",
      "run significantly faster if you instead use gsutil -m cp ... Please\n",
      "see the -m section under \"gsutil help options\" for further information\n",
      "about when gsutil -m can be advantageous.\n",
      "\n",
      "Copying file://COVID-19/csse_covid_19_data/csse_covid_19_daily_reports/03-14-2020.csv [Content-Type=text/csv]...\n",
      "Copying file://COVID-19/csse_covid_19_data/csse_covid_19_daily_reports/03-15-2020.csv [Content-Type=text/csv]...\n",
      "Copying file://COVID-19/csse_covid_19_data/csse_covid_19_daily_reports/03-16-2020.csv [Content-Type=text/csv]...\n",
      "Copying file://COVID-19/csse_covid_19_data/csse_covid_19_daily_reports/03-17-2020.csv [Content-Type=text/csv]...\n",
      "Copying file://COVID-19/csse_covid_19_data/csse_covid_19_daily_reports/03-18-2020.csv [Content-Type=text/csv]...\n",
      "Copying file://COVID-19/csse_covid_19_data/csse_covid_19_daily_reports/03-19-2020.csv [Content-Type=text/csv]...\n",
      "- [10 files][141.0 KiB/141.0 KiB]                                               \n",
      "Operation completed over 10 objects/141.0 KiB.                                   \n"
     ]
    }
   ],
   "source": [
    "!gsutil cp COVID-19/csse_covid_19_data/csse_covid_19_daily_reports/03-1*.csv gs://{bucket_name}/01-22-to-03-21"
   ]
  },
  {
   "cell_type": "code",
   "execution_count": 13,
   "metadata": {},
   "outputs": [
    {
     "name": "stdout",
     "output_type": "stream",
     "text": [
      "Copying file://COVID-19/csse_covid_19_data/csse_covid_19_daily_reports/03-20-2020.csv [Content-Type=text/csv]...\n",
      "/ [1 files][ 16.9 KiB/ 16.9 KiB]                                                \n",
      "Operation completed over 1 objects/16.9 KiB.                                     \n"
     ]
    }
   ],
   "source": [
    "!gsutil cp COVID-19/csse_covid_19_data/csse_covid_19_daily_reports/03-20-2020.csv gs://{bucket_name}/01-22-to-03-21"
   ]
  },
  {
   "cell_type": "code",
   "execution_count": 14,
   "metadata": {},
   "outputs": [
    {
     "name": "stdout",
     "output_type": "stream",
     "text": [
      "Copying file://COVID-19/csse_covid_19_data/csse_covid_19_daily_reports/03-21-2020.csv [Content-Type=text/csv]...\n",
      "/ [1 files][ 17.4 KiB/ 17.4 KiB]                                                \n",
      "Operation completed over 1 objects/17.4 KiB.                                     \n"
     ]
    }
   ],
   "source": [
    "!gsutil cp COVID-19/csse_covid_19_data/csse_covid_19_daily_reports/03-21-2020.csv gs://{bucket_name}/01-22-to-03-21"
   ]
  },
  {
   "cell_type": "code",
   "execution_count": 30,
   "metadata": {},
   "outputs": [
    {
     "name": "stdout",
     "output_type": "stream",
     "text": [
      "Copying file://COVID-19/csse_covid_19_data/csse_covid_19_daily_reports/03-22-2020.csv [Content-Type=text/csv]...\n",
      "/ [1 files][320.4 KiB/320.4 KiB]                                                \n",
      "Operation completed over 1 objects/320.4 KiB.                                    \n"
     ]
    }
   ],
   "source": [
    "!gsutil cp COVID-19/csse_covid_19_data/csse_covid_19_daily_reports/03-22-2020.csv gs://{bucket_name}/03-22-to-05-03"
   ]
  },
  {
   "cell_type": "code",
   "execution_count": 31,
   "metadata": {},
   "outputs": [
    {
     "name": "stdout",
     "output_type": "stream",
     "text": [
      "Copying file://COVID-19/csse_covid_19_data/csse_covid_19_daily_reports/03-23-2020.csv [Content-Type=text/csv]...\n",
      "/ [1 files][340.7 KiB/340.7 KiB]                                                \n",
      "Operation completed over 1 objects/340.7 KiB.                                    \n"
     ]
    }
   ],
   "source": [
    "!gsutil cp COVID-19/csse_covid_19_data/csse_covid_19_daily_reports/03-23-2020.csv gs://{bucket_name}/03-22-to-05-03"
   ]
  },
  {
   "cell_type": "code",
   "execution_count": 32,
   "metadata": {},
   "outputs": [
    {
     "name": "stdout",
     "output_type": "stream",
     "text": [
      "Copying file://COVID-19/csse_covid_19_data/csse_covid_19_daily_reports/03-24-2020.csv [Content-Type=text/csv]...\n",
      "/ [1 files][340.9 KiB/340.9 KiB]                                                \n",
      "Operation completed over 1 objects/340.9 KiB.                                    \n"
     ]
    }
   ],
   "source": [
    "!gsutil cp COVID-19/csse_covid_19_data/csse_covid_19_daily_reports/03-24-2020.csv gs://{bucket_name}/03-22-to-05-03"
   ]
  },
  {
   "cell_type": "code",
   "execution_count": 33,
   "metadata": {},
   "outputs": [
    {
     "name": "stdout",
     "output_type": "stream",
     "text": [
      "Copying file://COVID-19/csse_covid_19_data/csse_covid_19_daily_reports/03-25-2020.csv [Content-Type=text/csv]...\n",
      "/ [1 files][341.3 KiB/341.3 KiB]                                                \n",
      "Operation completed over 1 objects/341.3 KiB.                                    \n"
     ]
    }
   ],
   "source": [
    "!gsutil cp COVID-19/csse_covid_19_data/csse_covid_19_daily_reports/03-25-2020.csv gs://{bucket_name}/03-22-to-05-03"
   ]
  },
  {
   "cell_type": "code",
   "execution_count": 34,
   "metadata": {},
   "outputs": [
    {
     "name": "stdout",
     "output_type": "stream",
     "text": [
      "Copying file://COVID-19/csse_covid_19_data/csse_covid_19_daily_reports/03-26-2020.csv [Content-Type=text/csv]...\n",
      "/ [1 files][341.5 KiB/341.5 KiB]                                                \n",
      "Operation completed over 1 objects/341.5 KiB.                                    \n"
     ]
    }
   ],
   "source": [
    "!gsutil cp COVID-19/csse_covid_19_data/csse_covid_19_daily_reports/03-26-2020.csv gs://{bucket_name}/03-22-to-05-03"
   ]
  },
  {
   "cell_type": "code",
   "execution_count": 35,
   "metadata": {},
   "outputs": [
    {
     "name": "stdout",
     "output_type": "stream",
     "text": [
      "Copying file://COVID-19/csse_covid_19_data/csse_covid_19_daily_reports/03-27-2020.csv [Content-Type=text/csv]...\n",
      "/ [1 files][342.3 KiB/342.3 KiB]                                                \n",
      "Operation completed over 1 objects/342.3 KiB.                                    \n"
     ]
    }
   ],
   "source": [
    "!gsutil cp COVID-19/csse_covid_19_data/csse_covid_19_daily_reports/03-27-2020.csv gs://{bucket_name}/03-22-to-05-03"
   ]
  },
  {
   "cell_type": "code",
   "execution_count": 36,
   "metadata": {},
   "outputs": [
    {
     "name": "stdout",
     "output_type": "stream",
     "text": [
      "Copying file://COVID-19/csse_covid_19_data/csse_covid_19_daily_reports/03-28-2020.csv [Content-Type=text/csv]...\n",
      "/ [1 files][321.8 KiB/321.8 KiB]                                                \n",
      "Operation completed over 1 objects/321.8 KiB.                                    \n"
     ]
    }
   ],
   "source": [
    "!gsutil cp COVID-19/csse_covid_19_data/csse_covid_19_daily_reports/03-28-2020.csv gs://{bucket_name}/03-22-to-05-03"
   ]
  },
  {
   "cell_type": "code",
   "execution_count": 37,
   "metadata": {},
   "outputs": [
    {
     "name": "stdout",
     "output_type": "stream",
     "text": [
      "Copying file://COVID-19/csse_covid_19_data/csse_covid_19_daily_reports/03-29-2020.csv [Content-Type=text/csv]...\n",
      "/ [1 files][322.2 KiB/322.2 KiB]                                                \n",
      "Operation completed over 1 objects/322.2 KiB.                                    \n"
     ]
    }
   ],
   "source": [
    "!gsutil cp COVID-19/csse_covid_19_data/csse_covid_19_daily_reports/03-29-2020.csv gs://{bucket_name}/03-22-to-05-03"
   ]
  },
  {
   "cell_type": "code",
   "execution_count": 23,
   "metadata": {},
   "outputs": [
    {
     "name": "stdout",
     "output_type": "stream",
     "text": [
      "Copying file://COVID-19/csse_covid_19_data/csse_covid_19_daily_reports/03-30-2020.csv [Content-Type=text/csv]...\n",
      "Copying file://COVID-19/csse_covid_19_data/csse_covid_19_daily_reports/03-31-2020.csv [Content-Type=text/csv]...\n",
      "/ [2 files][565.1 KiB/565.1 KiB]                                                \n",
      "Operation completed over 2 objects/565.1 KiB.                                    \n"
     ]
    }
   ],
   "source": [
    "!gsutil cp COVID-19/csse_covid_19_data/csse_covid_19_daily_reports/03-3*.csv gs://{bucket_name}/03-22-to-05-03"
   ]
  },
  {
   "cell_type": "code",
   "execution_count": 24,
   "metadata": {},
   "outputs": [
    {
     "name": "stdout",
     "output_type": "stream",
     "text": [
      "Copying file://COVID-19/csse_covid_19_data/csse_covid_19_daily_reports/04-01-2020.csv [Content-Type=text/csv]...\n",
      "Copying file://COVID-19/csse_covid_19_data/csse_covid_19_daily_reports/04-02-2020.csv [Content-Type=text/csv]...\n",
      "Copying file://COVID-19/csse_covid_19_data/csse_covid_19_daily_reports/04-03-2020.csv [Content-Type=text/csv]...\n",
      "Copying file://COVID-19/csse_covid_19_data/csse_covid_19_daily_reports/04-04-2020.csv [Content-Type=text/csv]...\n",
      "/ [4 files][996.2 KiB/996.2 KiB]                                                \n",
      "==> NOTE: You are performing a sequence of gsutil operations that may\n",
      "run significantly faster if you instead use gsutil -m cp ... Please\n",
      "see the -m section under \"gsutil help options\" for further information\n",
      "about when gsutil -m can be advantageous.\n",
      "\n",
      "Copying file://COVID-19/csse_covid_19_data/csse_covid_19_daily_reports/04-05-2020.csv [Content-Type=text/csv]...\n",
      "Copying file://COVID-19/csse_covid_19_data/csse_covid_19_daily_reports/04-06-2020.csv [Content-Type=text/csv]...\n",
      "Copying file://COVID-19/csse_covid_19_data/csse_covid_19_daily_reports/04-07-2020.csv [Content-Type=text/csv]...\n",
      "Copying file://COVID-19/csse_covid_19_data/csse_covid_19_daily_reports/04-08-2020.csv [Content-Type=text/csv]...\n",
      "Copying file://COVID-19/csse_covid_19_data/csse_covid_19_daily_reports/04-09-2020.csv [Content-Type=text/csv]...\n",
      "Copying file://COVID-19/csse_covid_19_data/csse_covid_19_daily_reports/04-10-2020.csv [Content-Type=text/csv]...\n",
      "Copying file://COVID-19/csse_covid_19_data/csse_covid_19_daily_reports/04-11-2020.csv [Content-Type=text/csv]...\n",
      "Copying file://COVID-19/csse_covid_19_data/csse_covid_19_daily_reports/04-12-2020.csv [Content-Type=text/csv]...\n",
      "Copying file://COVID-19/csse_covid_19_data/csse_covid_19_daily_reports/04-13-2020.csv [Content-Type=text/csv]...\n",
      "Copying file://COVID-19/csse_covid_19_data/csse_covid_19_daily_reports/04-14-2020.csv [Content-Type=text/csv]...\n",
      "Copying file://COVID-19/csse_covid_19_data/csse_covid_19_daily_reports/04-15-2020.csv [Content-Type=text/csv]...\n",
      "Copying file://COVID-19/csse_covid_19_data/csse_covid_19_daily_reports/04-16-2020.csv [Content-Type=text/csv]...\n",
      "Copying file://COVID-19/csse_covid_19_data/csse_covid_19_daily_reports/04-17-2020.csv [Content-Type=text/csv]...\n",
      "Copying file://COVID-19/csse_covid_19_data/csse_covid_19_daily_reports/04-18-2020.csv [Content-Type=text/csv]...\n",
      "Copying file://COVID-19/csse_covid_19_data/csse_covid_19_daily_reports/04-19-2020.csv [Content-Type=text/csv]...\n",
      "Copying file://COVID-19/csse_covid_19_data/csse_covid_19_daily_reports/04-20-2020.csv [Content-Type=text/csv]...\n",
      "Copying file://COVID-19/csse_covid_19_data/csse_covid_19_daily_reports/04-21-2020.csv [Content-Type=text/csv]...\n",
      "Copying file://COVID-19/csse_covid_19_data/csse_covid_19_daily_reports/04-22-2020.csv [Content-Type=text/csv]...\n",
      "Copying file://COVID-19/csse_covid_19_data/csse_covid_19_daily_reports/04-23-2020.csv [Content-Type=text/csv]...\n",
      "Copying file://COVID-19/csse_covid_19_data/csse_covid_19_daily_reports/04-24-2020.csv [Content-Type=text/csv]...\n",
      "Copying file://COVID-19/csse_covid_19_data/csse_covid_19_daily_reports/04-25-2020.csv [Content-Type=text/csv]...\n",
      "Copying file://COVID-19/csse_covid_19_data/csse_covid_19_daily_reports/04-26-2020.csv [Content-Type=text/csv]...\n",
      "Copying file://COVID-19/csse_covid_19_data/csse_covid_19_daily_reports/04-27-2020.csv [Content-Type=text/csv]...\n",
      "Copying file://COVID-19/csse_covid_19_data/csse_covid_19_daily_reports/04-28-2020.csv [Content-Type=text/csv]...\n",
      "Copying file://COVID-19/csse_covid_19_data/csse_covid_19_daily_reports/04-29-2020.csv [Content-Type=text/csv]...\n",
      "Copying file://COVID-19/csse_covid_19_data/csse_covid_19_daily_reports/04-30-2020.csv [Content-Type=text/csv]...\n",
      "/ [30 files][  8.7 MiB/  8.7 MiB]                                               \n",
      "==> NOTE: You are performing a sequence of gsutil operations that may\n",
      "run significantly faster if you instead use gsutil -m cp ... Please\n",
      "see the -m section under \"gsutil help options\" for further information\n",
      "about when gsutil -m can be advantageous.\n",
      "\n",
      "\n",
      "Operation completed over 30 objects/8.7 MiB.                                     \n"
     ]
    }
   ],
   "source": [
    "!gsutil cp COVID-19/csse_covid_19_data/csse_covid_19_daily_reports/04-*.csv gs://{bucket_name}/03-22-to-05-03"
   ]
  },
  {
   "cell_type": "code",
   "execution_count": 38,
   "metadata": {},
   "outputs": [
    {
     "name": "stdout",
     "output_type": "stream",
     "text": [
      "Copying file://COVID-19/csse_covid_19_data/csse_covid_19_daily_reports/05-01-2020.csv [Content-Type=text/csv]...\n",
      "/ [1 files][323.2 KiB/323.2 KiB]                                                \n",
      "Operation completed over 1 objects/323.2 KiB.                                    \n"
     ]
    }
   ],
   "source": [
    "!gsutil cp COVID-19/csse_covid_19_data/csse_covid_19_daily_reports/05-01-2020.csv gs://{bucket_name}/03-22-to-05-03"
   ]
  },
  {
   "cell_type": "code",
   "execution_count": 39,
   "metadata": {},
   "outputs": [
    {
     "name": "stdout",
     "output_type": "stream",
     "text": [
      "Copying file://COVID-19/csse_covid_19_data/csse_covid_19_daily_reports/05-02-2020.csv [Content-Type=text/csv]...\n",
      "/ [1 files][323.7 KiB/323.7 KiB]                                                \n",
      "Operation completed over 1 objects/323.7 KiB.                                    \n"
     ]
    }
   ],
   "source": [
    "!gsutil cp COVID-19/csse_covid_19_data/csse_covid_19_daily_reports/05-02-2020.csv gs://{bucket_name}/03-22-to-05-03"
   ]
  },
  {
   "cell_type": "code",
   "execution_count": 40,
   "metadata": {},
   "outputs": [
    {
     "name": "stdout",
     "output_type": "stream",
     "text": [
      "Copying file://COVID-19/csse_covid_19_data/csse_covid_19_daily_reports/05-03-2020.csv [Content-Type=text/csv]...\n",
      "/ [1 files][324.4 KiB/324.4 KiB]                                                \n",
      "Operation completed over 1 objects/324.4 KiB.                                    \n"
     ]
    }
   ],
   "source": [
    "!gsutil cp COVID-19/csse_covid_19_data/csse_covid_19_daily_reports/05-03-2020.csv gs://{bucket_name}/03-22-to-05-03"
   ]
  },
  {
   "cell_type": "markdown",
   "metadata": {},
   "source": [
    "## Load files into BigQuery"
   ]
  },
  {
   "cell_type": "code",
   "execution_count": 25,
   "metadata": {},
   "outputs": [],
   "source": [
    "dataset_id = \"covid_19_staging\""
   ]
  },
  {
   "cell_type": "code",
   "execution_count": 46,
   "metadata": {},
   "outputs": [
    {
     "name": "stdout",
     "output_type": "stream",
     "text": [
      "Dataset 'extracredit-276620:covid_19_staging' successfully created.\n"
     ]
    }
   ],
   "source": [
    "!bq --location=US mk --dataset {dataset_id}"
   ]
  },
  {
   "cell_type": "code",
   "execution_count": 28,
   "metadata": {},
   "outputs": [
    {
     "name": "stdout",
     "output_type": "stream",
     "text": [
      "Waiting on bqjob_r2053d997f82c616b_00000171fac02adc_1 ... (1s) Current status: DONE   \n"
     ]
    }
   ],
   "source": [
    "!bq --location=US load --skip_leading_rows=1 --allow_jagged_rows=true --source_format=CSV {dataset_id}.First_Quarter_Cases \\\n",
    "gs://ex_cred_05/Dataset1/01-22-to-03-21/*.csv \\\n",
    "state:STRING,country:STRING,last_update:STRING,confirmed:INTEGER,deaths:INTEGER,recovered:INTEGER,latitude:FLOAT,longitude:FLOAT"
   ]
  },
  {
   "cell_type": "code",
   "execution_count": 27,
   "metadata": {},
   "outputs": [
    {
     "name": "stdout",
     "output_type": "stream",
     "text": [
      "Waiting on bqjob_r77b3ceeadffdc4ae_00000171fabf2146_1 ... (9s) Current status: DONE   \n"
     ]
    }
   ],
   "source": [
    "!bq --location=US load --skip_leading_rows=1 --allow_jagged_rows=true --source_format=CSV {dataset_id}.Second_Quarter_Cases \\\n",
    "gs://ex_cred_05/Dataset1/03-22-to-05-03/*.csv \\\n",
    "fips:INTEGER,admin2:String,state:STRING,country:STRING,last_update:STRING,latitude:FLOAT,longitude:FLOAT,confirmed:INTEGER,deaths:INTEGER,recovered:INTEGER,active:INTEGER,combined_key:STRING"
   ]
  },
  {
   "cell_type": "markdown",
   "metadata": {},
   "source": [
    "## Verify Load"
   ]
  },
  {
   "cell_type": "code",
   "execution_count": 51,
   "metadata": {},
   "outputs": [
    {
     "data": {
      "text/html": [
       "<div>\n",
       "<style scoped>\n",
       "    .dataframe tbody tr th:only-of-type {\n",
       "        vertical-align: middle;\n",
       "    }\n",
       "\n",
       "    .dataframe tbody tr th {\n",
       "        vertical-align: top;\n",
       "    }\n",
       "\n",
       "    .dataframe thead th {\n",
       "        text-align: right;\n",
       "    }\n",
       "</style>\n",
       "<table border=\"1\" class=\"dataframe\">\n",
       "  <thead>\n",
       "    <tr style=\"text-align: right;\">\n",
       "      <th></th>\n",
       "      <th>state</th>\n",
       "      <th>country</th>\n",
       "      <th>last_update</th>\n",
       "      <th>confirmed</th>\n",
       "      <th>deaths</th>\n",
       "      <th>recovered</th>\n",
       "      <th>latitude</th>\n",
       "      <th>longitude</th>\n",
       "    </tr>\n",
       "  </thead>\n",
       "  <tbody>\n",
       "    <tr>\n",
       "      <th>0</th>\n",
       "      <td>None</td>\n",
       "      <td>Japan</td>\n",
       "      <td>1/24/20 17:00</td>\n",
       "      <td>2</td>\n",
       "      <td>NaN</td>\n",
       "      <td>NaN</td>\n",
       "      <td>None</td>\n",
       "      <td>None</td>\n",
       "    </tr>\n",
       "    <tr>\n",
       "      <th>1</th>\n",
       "      <td>None</td>\n",
       "      <td>Belgium</td>\n",
       "      <td>2020-02-04T15:43:02</td>\n",
       "      <td>1</td>\n",
       "      <td>0.0</td>\n",
       "      <td>0.0</td>\n",
       "      <td>None</td>\n",
       "      <td>None</td>\n",
       "    </tr>\n",
       "    <tr>\n",
       "      <th>2</th>\n",
       "      <td>None</td>\n",
       "      <td>Cambodia</td>\n",
       "      <td>2020-02-12T07:43:02</td>\n",
       "      <td>1</td>\n",
       "      <td>0.0</td>\n",
       "      <td>1.0</td>\n",
       "      <td>None</td>\n",
       "      <td>None</td>\n",
       "    </tr>\n",
       "    <tr>\n",
       "      <th>3</th>\n",
       "      <td>None</td>\n",
       "      <td>Philippines</td>\n",
       "      <td>2020-02-07T16:43:04</td>\n",
       "      <td>3</td>\n",
       "      <td>1.0</td>\n",
       "      <td>0.0</td>\n",
       "      <td>None</td>\n",
       "      <td>None</td>\n",
       "    </tr>\n",
       "    <tr>\n",
       "      <th>4</th>\n",
       "      <td>None</td>\n",
       "      <td>Japan</td>\n",
       "      <td>1/29/20 19:30</td>\n",
       "      <td>7</td>\n",
       "      <td>NaN</td>\n",
       "      <td>1.0</td>\n",
       "      <td>None</td>\n",
       "      <td>None</td>\n",
       "    </tr>\n",
       "  </tbody>\n",
       "</table>\n",
       "</div>"
      ],
      "text/plain": [
       "  state      country          last_update  confirmed  deaths  recovered  \\\n",
       "0  None        Japan        1/24/20 17:00          2     NaN        NaN   \n",
       "1  None      Belgium  2020-02-04T15:43:02          1     0.0        0.0   \n",
       "2  None     Cambodia  2020-02-12T07:43:02          1     0.0        1.0   \n",
       "3  None  Philippines  2020-02-07T16:43:04          3     1.0        0.0   \n",
       "4  None        Japan        1/29/20 19:30          7     NaN        1.0   \n",
       "\n",
       "  latitude longitude  \n",
       "0     None      None  \n",
       "1     None      None  \n",
       "2     None      None  \n",
       "3     None      None  \n",
       "4     None      None  "
      ]
     },
     "execution_count": 51,
     "metadata": {},
     "output_type": "execute_result"
    }
   ],
   "source": [
    "%%bigquery\n",
    "select * from covid_19_staging.First_Quarter_Cases limit 5"
   ]
  },
  {
   "cell_type": "code",
   "execution_count": 52,
   "metadata": {},
   "outputs": [
    {
     "data": {
      "text/html": [
       "<div>\n",
       "<style scoped>\n",
       "    .dataframe tbody tr th:only-of-type {\n",
       "        vertical-align: middle;\n",
       "    }\n",
       "\n",
       "    .dataframe tbody tr th {\n",
       "        vertical-align: top;\n",
       "    }\n",
       "\n",
       "    .dataframe thead th {\n",
       "        text-align: right;\n",
       "    }\n",
       "</style>\n",
       "<table border=\"1\" class=\"dataframe\">\n",
       "  <thead>\n",
       "    <tr style=\"text-align: right;\">\n",
       "      <th></th>\n",
       "      <th>fips</th>\n",
       "      <th>admin2</th>\n",
       "      <th>state</th>\n",
       "      <th>country</th>\n",
       "      <th>last_update</th>\n",
       "      <th>latitude</th>\n",
       "      <th>longitude</th>\n",
       "      <th>confirmed</th>\n",
       "      <th>deaths</th>\n",
       "      <th>recovered</th>\n",
       "      <th>active</th>\n",
       "      <th>combined_key</th>\n",
       "    </tr>\n",
       "  </thead>\n",
       "  <tbody>\n",
       "    <tr>\n",
       "      <th>0</th>\n",
       "      <td>NaN</td>\n",
       "      <td>None</td>\n",
       "      <td>None</td>\n",
       "      <td>Chad</td>\n",
       "      <td>2020-03-23 23:19:21</td>\n",
       "      <td>15.4542</td>\n",
       "      <td>18.7322</td>\n",
       "      <td>1</td>\n",
       "      <td>0</td>\n",
       "      <td>0</td>\n",
       "      <td>1</td>\n",
       "      <td>Chad</td>\n",
       "    </tr>\n",
       "    <tr>\n",
       "      <th>1</th>\n",
       "      <td>NaN</td>\n",
       "      <td>None</td>\n",
       "      <td>None</td>\n",
       "      <td>Chad</td>\n",
       "      <td>2020-03-24 23:37:15</td>\n",
       "      <td>15.4542</td>\n",
       "      <td>18.7322</td>\n",
       "      <td>3</td>\n",
       "      <td>0</td>\n",
       "      <td>0</td>\n",
       "      <td>3</td>\n",
       "      <td>Chad</td>\n",
       "    </tr>\n",
       "    <tr>\n",
       "      <th>2</th>\n",
       "      <td>NaN</td>\n",
       "      <td>None</td>\n",
       "      <td>None</td>\n",
       "      <td>Chad</td>\n",
       "      <td>2020-03-25 23:33:04</td>\n",
       "      <td>15.4542</td>\n",
       "      <td>18.7322</td>\n",
       "      <td>3</td>\n",
       "      <td>0</td>\n",
       "      <td>0</td>\n",
       "      <td>3</td>\n",
       "      <td>Chad</td>\n",
       "    </tr>\n",
       "    <tr>\n",
       "      <th>3</th>\n",
       "      <td>NaN</td>\n",
       "      <td>None</td>\n",
       "      <td>None</td>\n",
       "      <td>Chad</td>\n",
       "      <td>2020-03-26 23:48:18</td>\n",
       "      <td>15.4542</td>\n",
       "      <td>18.7322</td>\n",
       "      <td>3</td>\n",
       "      <td>0</td>\n",
       "      <td>0</td>\n",
       "      <td>3</td>\n",
       "      <td>Chad</td>\n",
       "    </tr>\n",
       "    <tr>\n",
       "      <th>4</th>\n",
       "      <td>NaN</td>\n",
       "      <td>None</td>\n",
       "      <td>None</td>\n",
       "      <td>Chad</td>\n",
       "      <td>2020-03-27 23:23:03</td>\n",
       "      <td>15.4542</td>\n",
       "      <td>18.7322</td>\n",
       "      <td>3</td>\n",
       "      <td>0</td>\n",
       "      <td>0</td>\n",
       "      <td>3</td>\n",
       "      <td>Chad</td>\n",
       "    </tr>\n",
       "  </tbody>\n",
       "</table>\n",
       "</div>"
      ],
      "text/plain": [
       "   fips admin2 state country          last_update latitude longitude  \\\n",
       "0   NaN   None  None    Chad  2020-03-23 23:19:21  15.4542   18.7322   \n",
       "1   NaN   None  None    Chad  2020-03-24 23:37:15  15.4542   18.7322   \n",
       "2   NaN   None  None    Chad  2020-03-25 23:33:04  15.4542   18.7322   \n",
       "3   NaN   None  None    Chad  2020-03-26 23:48:18  15.4542   18.7322   \n",
       "4   NaN   None  None    Chad  2020-03-27 23:23:03  15.4542   18.7322   \n",
       "\n",
       "   confirmed  deaths  recovered  active combined_key  \n",
       "0          1       0          0       1         Chad  \n",
       "1          3       0          0       3         Chad  \n",
       "2          3       0          0       3         Chad  \n",
       "3          3       0          0       3         Chad  \n",
       "4          3       0          0       3         Chad  "
      ]
     },
     "execution_count": 52,
     "metadata": {},
     "output_type": "execute_result"
    }
   ],
   "source": [
    "%%bigquery\n",
    "select * from covid_19_staging.Second_Quarter_Cases limit 5"
   ]
  },
  {
   "cell_type": "code",
   "execution_count": 53,
   "metadata": {},
   "outputs": [
    {
     "data": {
      "text/html": [
       "<div>\n",
       "<style scoped>\n",
       "    .dataframe tbody tr th:only-of-type {\n",
       "        vertical-align: middle;\n",
       "    }\n",
       "\n",
       "    .dataframe tbody tr th {\n",
       "        vertical-align: top;\n",
       "    }\n",
       "\n",
       "    .dataframe thead th {\n",
       "        text-align: right;\n",
       "    }\n",
       "</style>\n",
       "<table border=\"1\" class=\"dataframe\">\n",
       "  <thead>\n",
       "    <tr style=\"text-align: right;\">\n",
       "      <th></th>\n",
       "      <th>oldest_timestamp</th>\n",
       "      <th>newest_timestamp</th>\n",
       "    </tr>\n",
       "  </thead>\n",
       "  <tbody>\n",
       "    <tr>\n",
       "      <th>0</th>\n",
       "      <td>1/22/2020 17:00</td>\n",
       "      <td>2020-03-21T23:43:02</td>\n",
       "    </tr>\n",
       "  </tbody>\n",
       "</table>\n",
       "</div>"
      ],
      "text/plain": [
       "  oldest_timestamp     newest_timestamp\n",
       "0  1/22/2020 17:00  2020-03-21T23:43:02"
      ]
     },
     "execution_count": 53,
     "metadata": {},
     "output_type": "execute_result"
    }
   ],
   "source": [
    "%%bigquery\n",
    "select min(last_update) as oldest_timestamp, max(last_update) as newest_timestamp\n",
    "from covid_19_staging.First_Quarter_Cases"
   ]
  },
  {
   "cell_type": "code",
   "execution_count": 54,
   "metadata": {},
   "outputs": [
    {
     "data": {
      "text/html": [
       "<div>\n",
       "<style scoped>\n",
       "    .dataframe tbody tr th:only-of-type {\n",
       "        vertical-align: middle;\n",
       "    }\n",
       "\n",
       "    .dataframe tbody tr th {\n",
       "        vertical-align: top;\n",
       "    }\n",
       "\n",
       "    .dataframe thead th {\n",
       "        text-align: right;\n",
       "    }\n",
       "</style>\n",
       "<table border=\"1\" class=\"dataframe\">\n",
       "  <thead>\n",
       "    <tr style=\"text-align: right;\">\n",
       "      <th></th>\n",
       "      <th>oldest_timestamp</th>\n",
       "      <th>newest_timestamp</th>\n",
       "    </tr>\n",
       "  </thead>\n",
       "  <tbody>\n",
       "    <tr>\n",
       "      <th>0</th>\n",
       "      <td>2/23/20 11:19</td>\n",
       "      <td>4/6/20 9:37</td>\n",
       "    </tr>\n",
       "  </tbody>\n",
       "</table>\n",
       "</div>"
      ],
      "text/plain": [
       "  oldest_timestamp newest_timestamp\n",
       "0    2/23/20 11:19      4/6/20 9:37"
      ]
     },
     "execution_count": 54,
     "metadata": {},
     "output_type": "execute_result"
    }
   ],
   "source": [
    "%%bigquery\n",
    "select min(last_update) as oldest_timestamp, max(last_update) as newest_timestamp\n",
    "from covid_19_staging.Second_Quarter_Cases"
   ]
  },
  {
   "cell_type": "code",
   "execution_count": 55,
   "metadata": {},
   "outputs": [
    {
     "data": {
      "text/html": [
       "<div>\n",
       "<style scoped>\n",
       "    .dataframe tbody tr th:only-of-type {\n",
       "        vertical-align: middle;\n",
       "    }\n",
       "\n",
       "    .dataframe tbody tr th {\n",
       "        vertical-align: top;\n",
       "    }\n",
       "\n",
       "    .dataframe thead th {\n",
       "        text-align: right;\n",
       "    }\n",
       "</style>\n",
       "<table border=\"1\" class=\"dataframe\">\n",
       "  <thead>\n",
       "    <tr style=\"text-align: right;\">\n",
       "      <th></th>\n",
       "      <th>timestamp</th>\n",
       "      <th>number_of_records</th>\n",
       "    </tr>\n",
       "  </thead>\n",
       "  <tbody>\n",
       "    <tr>\n",
       "      <th>0</th>\n",
       "      <td>1/22/2020 17:00</td>\n",
       "      <td>38</td>\n",
       "    </tr>\n",
       "    <tr>\n",
       "      <th>1</th>\n",
       "      <td>1/23/20 17:00</td>\n",
       "      <td>46</td>\n",
       "    </tr>\n",
       "    <tr>\n",
       "      <th>2</th>\n",
       "      <td>1/24/20 17:00</td>\n",
       "      <td>41</td>\n",
       "    </tr>\n",
       "    <tr>\n",
       "      <th>3</th>\n",
       "      <td>1/25/20 17:00</td>\n",
       "      <td>44</td>\n",
       "    </tr>\n",
       "    <tr>\n",
       "      <th>4</th>\n",
       "      <td>1/26/20 16:00</td>\n",
       "      <td>47</td>\n",
       "    </tr>\n",
       "    <tr>\n",
       "      <th>5</th>\n",
       "      <td>1/27/20 23:59</td>\n",
       "      <td>51</td>\n",
       "    </tr>\n",
       "    <tr>\n",
       "      <th>6</th>\n",
       "      <td>1/28/20 23:00</td>\n",
       "      <td>52</td>\n",
       "    </tr>\n",
       "    <tr>\n",
       "      <th>7</th>\n",
       "      <td>1/29/20 19:30</td>\n",
       "      <td>54</td>\n",
       "    </tr>\n",
       "    <tr>\n",
       "      <th>8</th>\n",
       "      <td>1/30/20 16:00</td>\n",
       "      <td>58</td>\n",
       "    </tr>\n",
       "    <tr>\n",
       "      <th>9</th>\n",
       "      <td>1/31/2020 10:37</td>\n",
       "      <td>1</td>\n",
       "    </tr>\n",
       "  </tbody>\n",
       "</table>\n",
       "</div>"
      ],
      "text/plain": [
       "         timestamp  number_of_records\n",
       "0  1/22/2020 17:00                 38\n",
       "1    1/23/20 17:00                 46\n",
       "2    1/24/20 17:00                 41\n",
       "3    1/25/20 17:00                 44\n",
       "4    1/26/20 16:00                 47\n",
       "5    1/27/20 23:59                 51\n",
       "6    1/28/20 23:00                 52\n",
       "7    1/29/20 19:30                 54\n",
       "8    1/30/20 16:00                 58\n",
       "9  1/31/2020 10:37                  1"
      ]
     },
     "execution_count": 55,
     "metadata": {},
     "output_type": "execute_result"
    }
   ],
   "source": [
    "%%bigquery\n",
    "select last_update as timestamp, count(*) as number_of_records\n",
    "from covid_19_staging.First_Quarter_Cases\n",
    "group by last_update\n",
    "order by last_update \n",
    "limit 10"
   ]
  },
  {
   "cell_type": "code",
   "execution_count": 56,
   "metadata": {},
   "outputs": [
    {
     "data": {
      "text/html": [
       "<div>\n",
       "<style scoped>\n",
       "    .dataframe tbody tr th:only-of-type {\n",
       "        vertical-align: middle;\n",
       "    }\n",
       "\n",
       "    .dataframe tbody tr th {\n",
       "        vertical-align: top;\n",
       "    }\n",
       "\n",
       "    .dataframe thead th {\n",
       "        text-align: right;\n",
       "    }\n",
       "</style>\n",
       "<table border=\"1\" class=\"dataframe\">\n",
       "  <thead>\n",
       "    <tr style=\"text-align: right;\">\n",
       "      <th></th>\n",
       "      <th>timestamp</th>\n",
       "      <th>number_of_records</th>\n",
       "    </tr>\n",
       "  </thead>\n",
       "  <tbody>\n",
       "    <tr>\n",
       "      <th>0</th>\n",
       "      <td>2/23/20 11:19</td>\n",
       "      <td>14</td>\n",
       "    </tr>\n",
       "    <tr>\n",
       "      <th>1</th>\n",
       "      <td>2020-02-23 11:19:00</td>\n",
       "      <td>2</td>\n",
       "    </tr>\n",
       "    <tr>\n",
       "      <th>2</th>\n",
       "      <td>2020-02-23 11:19:02</td>\n",
       "      <td>58</td>\n",
       "    </tr>\n",
       "    <tr>\n",
       "      <th>3</th>\n",
       "      <td>2020-03-08 05:19:01</td>\n",
       "      <td>11</td>\n",
       "    </tr>\n",
       "    <tr>\n",
       "      <th>4</th>\n",
       "      <td>2020-03-08 05:31:00</td>\n",
       "      <td>1</td>\n",
       "    </tr>\n",
       "    <tr>\n",
       "      <th>5</th>\n",
       "      <td>2020-03-08 05:31:02</td>\n",
       "      <td>29</td>\n",
       "    </tr>\n",
       "    <tr>\n",
       "      <th>6</th>\n",
       "      <td>2020-03-12 12:54:34</td>\n",
       "      <td>2</td>\n",
       "    </tr>\n",
       "    <tr>\n",
       "      <th>7</th>\n",
       "      <td>2020-03-13 08:56:40</td>\n",
       "      <td>1</td>\n",
       "    </tr>\n",
       "    <tr>\n",
       "      <th>8</th>\n",
       "      <td>2020-03-14 08:25:05</td>\n",
       "      <td>7</td>\n",
       "    </tr>\n",
       "    <tr>\n",
       "      <th>9</th>\n",
       "      <td>2020-03-16 08:47:00</td>\n",
       "      <td>1</td>\n",
       "    </tr>\n",
       "  </tbody>\n",
       "</table>\n",
       "</div>"
      ],
      "text/plain": [
       "             timestamp  number_of_records\n",
       "0        2/23/20 11:19                 14\n",
       "1  2020-02-23 11:19:00                  2\n",
       "2  2020-02-23 11:19:02                 58\n",
       "3  2020-03-08 05:19:01                 11\n",
       "4  2020-03-08 05:31:00                  1\n",
       "5  2020-03-08 05:31:02                 29\n",
       "6  2020-03-12 12:54:34                  2\n",
       "7  2020-03-13 08:56:40                  1\n",
       "8  2020-03-14 08:25:05                  7\n",
       "9  2020-03-16 08:47:00                  1"
      ]
     },
     "execution_count": 56,
     "metadata": {},
     "output_type": "execute_result"
    }
   ],
   "source": [
    "%%bigquery\n",
    "select last_update as timestamp, count(*) as number_of_records\n",
    "from covid_19_staging.Second_Quarter_Cases\n",
    "group by last_update\n",
    "order by last_update \n",
    "limit 10"
   ]
  },
  {
   "cell_type": "markdown",
   "metadata": {},
   "source": [
    "## Merge tables into one: Cases_2020"
   ]
  },
  {
   "cell_type": "code",
   "execution_count": 30,
   "metadata": {},
   "outputs": [
    {
     "data": {
      "text/html": [
       "<div>\n",
       "<style scoped>\n",
       "    .dataframe tbody tr th:only-of-type {\n",
       "        vertical-align: middle;\n",
       "    }\n",
       "\n",
       "    .dataframe tbody tr th {\n",
       "        vertical-align: top;\n",
       "    }\n",
       "\n",
       "    .dataframe thead th {\n",
       "        text-align: right;\n",
       "    }\n",
       "</style>\n",
       "<table border=\"1\" class=\"dataframe\">\n",
       "  <thead>\n",
       "    <tr style=\"text-align: right;\">\n",
       "      <th></th>\n",
       "    </tr>\n",
       "  </thead>\n",
       "  <tbody>\n",
       "  </tbody>\n",
       "</table>\n",
       "</div>"
      ],
      "text/plain": [
       "Empty DataFrame\n",
       "Columns: []\n",
       "Index: []"
      ]
     },
     "execution_count": 30,
     "metadata": {},
     "output_type": "execute_result"
    }
   ],
   "source": [
    "%%bigquery\n",
    "create table covid_19_staging.Cases_2020\n",
    "(fips INT64, admin2 STRING, state STRING, country STRING, last_update STRING, latitude FLOAT64, \n",
    "longitude FLOAT64, confirmed INT64, deaths INT64, recovered INT64, active INT64, combined_key STRING)"
   ]
  },
  {
   "cell_type": "code",
   "execution_count": 31,
   "metadata": {},
   "outputs": [
    {
     "data": {
      "text/html": [
       "<div>\n",
       "<style scoped>\n",
       "    .dataframe tbody tr th:only-of-type {\n",
       "        vertical-align: middle;\n",
       "    }\n",
       "\n",
       "    .dataframe tbody tr th {\n",
       "        vertical-align: top;\n",
       "    }\n",
       "\n",
       "    .dataframe thead th {\n",
       "        text-align: right;\n",
       "    }\n",
       "</style>\n",
       "<table border=\"1\" class=\"dataframe\">\n",
       "  <thead>\n",
       "    <tr style=\"text-align: right;\">\n",
       "      <th></th>\n",
       "    </tr>\n",
       "  </thead>\n",
       "  <tbody>\n",
       "  </tbody>\n",
       "</table>\n",
       "</div>"
      ],
      "text/plain": [
       "Empty DataFrame\n",
       "Columns: []\n",
       "Index: []"
      ]
     },
     "execution_count": 31,
     "metadata": {},
     "output_type": "execute_result"
    }
   ],
   "source": [
    "%%bigquery\n",
    "Insert covid_19_staging.Cases_2020 (fips, admin2, state, country, last_update, latitude, longitude, confirmed, deaths, recovered,\n",
    "active, combined_key)\n",
    "select NULL, NULL, state, country, last_update, latitude, longitude, confirmed, deaths, recovered, NULL, NULL\n",
    "from covid_19_staging.First_Quarter_Cases\n"
   ]
  },
  {
   "cell_type": "code",
   "execution_count": 32,
   "metadata": {},
   "outputs": [
    {
     "data": {
      "text/html": [
       "<div>\n",
       "<style scoped>\n",
       "    .dataframe tbody tr th:only-of-type {\n",
       "        vertical-align: middle;\n",
       "    }\n",
       "\n",
       "    .dataframe tbody tr th {\n",
       "        vertical-align: top;\n",
       "    }\n",
       "\n",
       "    .dataframe thead th {\n",
       "        text-align: right;\n",
       "    }\n",
       "</style>\n",
       "<table border=\"1\" class=\"dataframe\">\n",
       "  <thead>\n",
       "    <tr style=\"text-align: right;\">\n",
       "      <th></th>\n",
       "    </tr>\n",
       "  </thead>\n",
       "  <tbody>\n",
       "  </tbody>\n",
       "</table>\n",
       "</div>"
      ],
      "text/plain": [
       "Empty DataFrame\n",
       "Columns: []\n",
       "Index: []"
      ]
     },
     "execution_count": 32,
     "metadata": {},
     "output_type": "execute_result"
    }
   ],
   "source": [
    "%%bigquery\n",
    "Insert covid_19_staging.Cases_2020 (fips, admin2, state, country, last_update, latitude, longitude, confirmed, deaths, recovered,\n",
    "active, combined_key)\n",
    "select fips, admin2, state, country, last_update, latitude, longitude, confirmed, deaths, recovered, active, combined_key\n",
    "from covid_19_staging.Second_Quarter_Cases"
   ]
  },
  {
   "cell_type": "code",
   "execution_count": 34,
   "metadata": {},
   "outputs": [
    {
     "data": {
      "text/html": [
       "<div>\n",
       "<style scoped>\n",
       "    .dataframe tbody tr th:only-of-type {\n",
       "        vertical-align: middle;\n",
       "    }\n",
       "\n",
       "    .dataframe tbody tr th {\n",
       "        vertical-align: top;\n",
       "    }\n",
       "\n",
       "    .dataframe thead th {\n",
       "        text-align: right;\n",
       "    }\n",
       "</style>\n",
       "<table border=\"1\" class=\"dataframe\">\n",
       "  <thead>\n",
       "    <tr style=\"text-align: right;\">\n",
       "      <th></th>\n",
       "      <th>total_records</th>\n",
       "    </tr>\n",
       "  </thead>\n",
       "  <tbody>\n",
       "    <tr>\n",
       "      <th>0</th>\n",
       "      <td>139621</td>\n",
       "    </tr>\n",
       "  </tbody>\n",
       "</table>\n",
       "</div>"
      ],
      "text/plain": [
       "   total_records\n",
       "0         139621"
      ]
     },
     "execution_count": 34,
     "metadata": {},
     "output_type": "execute_result"
    }
   ],
   "source": [
    "%%bigquery\n",
    "select count(*) as total_records from covid_19_staging.Cases_2020"
   ]
  },
  {
   "cell_type": "code",
   "execution_count": 43,
   "metadata": {},
   "outputs": [
    {
     "data": {
      "text/html": [
       "<div>\n",
       "<style scoped>\n",
       "    .dataframe tbody tr th:only-of-type {\n",
       "        vertical-align: middle;\n",
       "    }\n",
       "\n",
       "    .dataframe tbody tr th {\n",
       "        vertical-align: top;\n",
       "    }\n",
       "\n",
       "    .dataframe thead th {\n",
       "        text-align: right;\n",
       "    }\n",
       "</style>\n",
       "<table border=\"1\" class=\"dataframe\">\n",
       "  <thead>\n",
       "    <tr style=\"text-align: right;\">\n",
       "      <th></th>\n",
       "    </tr>\n",
       "  </thead>\n",
       "  <tbody>\n",
       "  </tbody>\n",
       "</table>\n",
       "</div>"
      ],
      "text/plain": [
       "Empty DataFrame\n",
       "Columns: []\n",
       "Index: []"
      ]
     },
     "execution_count": 43,
     "metadata": {},
     "output_type": "execute_result"
    }
   ],
   "source": [
    "%%bigquery\n",
    "create or replace table covid_19_staging.us_cases_2020 as\n",
    "select fips, admin2, state, country, last_update, latitude, longitude, confirmed, deaths, recovered, active, combined_key\n",
    "from covid_19_staging.Cases_2020\n",
    "where country='US'"
   ]
  },
  {
   "cell_type": "code",
   "execution_count": 44,
   "metadata": {},
   "outputs": [
    {
     "data": {
      "text/html": [
       "<div>\n",
       "<style scoped>\n",
       "    .dataframe tbody tr th:only-of-type {\n",
       "        vertical-align: middle;\n",
       "    }\n",
       "\n",
       "    .dataframe tbody tr th {\n",
       "        vertical-align: top;\n",
       "    }\n",
       "\n",
       "    .dataframe thead th {\n",
       "        text-align: right;\n",
       "    }\n",
       "</style>\n",
       "<table border=\"1\" class=\"dataframe\">\n",
       "  <thead>\n",
       "    <tr style=\"text-align: right;\">\n",
       "      <th></th>\n",
       "      <th>total_records</th>\n",
       "    </tr>\n",
       "  </thead>\n",
       "  <tbody>\n",
       "    <tr>\n",
       "      <th>0</th>\n",
       "      <td>122463</td>\n",
       "    </tr>\n",
       "  </tbody>\n",
       "</table>\n",
       "</div>"
      ],
      "text/plain": [
       "   total_records\n",
       "0         122463"
      ]
     },
     "execution_count": 44,
     "metadata": {},
     "output_type": "execute_result"
    }
   ],
   "source": [
    "%%bigquery\n",
    "select count(*) as total_records from covid_19_staging.us_cases_2020"
   ]
  },
  {
   "cell_type": "code",
   "execution_count": null,
   "metadata": {},
   "outputs": [],
   "source": []
  }
 ],
 "metadata": {
  "environment": {
   "name": "common-cpu.m47",
   "type": "gcloud",
   "uri": "gcr.io/deeplearning-platform-release/base-cpu:m47"
  },
  "kernelspec": {
   "display_name": "Python 3",
   "language": "python",
   "name": "python3"
  },
  "language_info": {
   "codemirror_mode": {
    "name": "ipython",
    "version": 3
   },
   "file_extension": ".py",
   "mimetype": "text/x-python",
   "name": "python",
   "nbconvert_exporter": "python",
   "pygments_lexer": "ipython3",
   "version": "3.7.6"
  }
 },
 "nbformat": 4,
 "nbformat_minor": 4
}
